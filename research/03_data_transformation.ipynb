{
 "cells": [
  {
   "cell_type": "code",
   "execution_count": 1,
   "id": "ad45e7fd",
   "metadata": {},
   "outputs": [
    {
     "data": {
      "text/plain": [
       "'c:\\\\Users\\\\dibak\\\\Desktop\\\\End to End Machine Learning Pipeline'"
      ]
     },
     "execution_count": 1,
     "metadata": {},
     "output_type": "execute_result"
    }
   ],
   "source": [
    "import os\n",
    "os.chdir(\"../\")\n",
    "%pwd"
   ]
  },
  {
   "cell_type": "code",
   "execution_count": 2,
   "id": "a468799a",
   "metadata": {},
   "outputs": [],
   "source": [
    "from dataclasses import dataclass\n",
    "from pathlib import Path\n",
    "\n",
    "@dataclass(frozen = True)\n",
    "class DataTransformationConfig:\n",
    "    root_dir: Path\n",
    "    data_path: Path"
   ]
  },
  {
   "cell_type": "code",
   "execution_count": 3,
   "id": "960c471f",
   "metadata": {},
   "outputs": [],
   "source": [
    "from mlProject.constants import *\n",
    "from mlProject.utils.common import read_yaml, create_directories"
   ]
  },
  {
   "cell_type": "code",
   "execution_count": 4,
   "id": "6c2eba84",
   "metadata": {},
   "outputs": [],
   "source": [
    "class ConfigurationManager:\n",
    "    def __init__(\n",
    "        self,\n",
    "        config_filepath = CONFIG_FILE_PATH,\n",
    "        params_filepath = PARAMS_FILE_PATH,\n",
    "        schema_filepath = SCHEMA_FILE_PATH):\n",
    "\n",
    "        self.config = read_yaml(config_filepath)\n",
    "        self.params = read_yaml(params_filepath)\n",
    "        self.schema = read_yaml(schema_filepath)\n",
    "\n",
    "        create_directories([self.config.artifacts_root])\n",
    "\n",
    "\n",
    "    \n",
    "    def get_data_transformation_config(self) -> DataTransformationConfig:\n",
    "        config = self.config.data_transformation\n",
    "\n",
    "        create_directories([config.root_dir])\n",
    "\n",
    "        data_transformation_config = DataTransformationConfig(\n",
    "            root_dir=config.root_dir,\n",
    "            data_path=config.data_path,\n",
    "        )\n",
    "\n",
    "        return data_transformation_config"
   ]
  },
  {
   "cell_type": "code",
   "execution_count": 5,
   "id": "95603bcd",
   "metadata": {},
   "outputs": [],
   "source": [
    "import os\n",
    "from mlProject import logger\n",
    "from sklearn.model_selection import train_test_split\n",
    "import pandas as pd\n",
    "from sklearn.preprocessing import StandardScaler, PolynomialFeatures\n",
    "from sklearn.pipeline import Pipeline"
   ]
  },
  {
   "cell_type": "code",
   "execution_count": 6,
   "id": "c4e5ab4f",
   "metadata": {},
   "outputs": [],
   "source": [
    "class DataTransformation:\n",
    "    def __init__(self, config: DataTransformationConfig):\n",
    "        self.config = config\n",
    "\n",
    "    \n",
    "    ## Note: You can add different data transformation techniques such as Scaler, PCA and all\n",
    "    #You can perform all kinds of EDA in ML cycle here before passing this data to the model\n",
    "\n",
    "    # I am only adding train_test_spliting cz this data is already cleaned up\n",
    "\n",
    "\n",
    "    def train_test_spliting(self):\n",
    "        data = pd.read_csv(self.config.data_path)\n",
    "\n",
    "        # Split the data into training and test sets. (0.75, 0.25) split.\n",
    "        train, test = train_test_split(data)\n",
    "\n",
    "        train.to_csv(os.path.join(self.config.root_dir, \"train.csv\"),index = False)\n",
    "        test.to_csv(os.path.join(self.config.root_dir, \"test.csv\"),index = False)\n",
    "\n",
    "        logger.info(\"Splited data into training and test sets\")\n",
    "        logger.info(train.shape)\n",
    "        logger.info(test.shape)\n",
    "\n",
    "        print(train.shape)\n",
    "        print(test.shape)\n",
    "        \n",
    "        \n",
    "    def feature_transformation(self):\n",
    "        # Load train and test data\n",
    "        train = pd.read_csv(os.path.join(self.config.root_dir, \"train.csv\"))\n",
    "        test = pd.read_csv(os.path.join(self.config.root_dir, \"test.csv\"))\n",
    "\n",
    "        # Dynamically infer feature columns (excluding the target column 'quality')\n",
    "        target_column = 'quality'\n",
    "        feature_columns = [col for col in train.columns if col != target_column]\n",
    "\n",
    "        X_train = train[feature_columns]\n",
    "        X_test = test[feature_columns]\n",
    "        y_train = train[target_column]\n",
    "        y_test = test[target_column]\n",
    "\n",
    "        # Define the pipeline\n",
    "        feature_pipeline = Pipeline([\n",
    "            ('scaler', StandardScaler()),\n",
    "            ('poly', PolynomialFeatures(degree=2, include_bias=False))\n",
    "        ])\n",
    "\n",
    "        # Transform features\n",
    "        X_train_transformed = feature_pipeline.fit_transform(X_train)\n",
    "        X_test_transformed = feature_pipeline.transform(X_test)\n",
    "\n",
    "        # Convert to DataFrames\n",
    "        train_transformed_df = pd.DataFrame(X_train_transformed)\n",
    "        train_transformed_df[target_column] = y_train.values\n",
    "\n",
    "        test_transformed_df = pd.DataFrame(X_test_transformed)\n",
    "        test_transformed_df[target_column] = y_test.values\n",
    "\n",
    "        # Save transformed data\n",
    "        train_path = os.path.join(self.config.root_dir, \"train_transformed.csv\")\n",
    "        test_path = os.path.join(self.config.root_dir, \"test_transformed.csv\")\n",
    "        train_transformed_df.to_csv(train_path, index=False)\n",
    "        test_transformed_df.to_csv(test_path, index=False)\n",
    "\n",
    "        logger.info(\"Saved transformed train and test datasets to CSV\")\n",
    "        print(\"X_train_transformed shape:\", X_train_transformed.shape)\n",
    "        print(\"X_test_transformed shape:\", X_test_transformed.shape)\n",
    "\n",
    "        return X_train_transformed, X_test_transformed, y_train, y_test"
   ]
  },
  {
   "cell_type": "code",
   "execution_count": 7,
   "id": "899c5c4a",
   "metadata": {},
   "outputs": [
    {
     "name": "stdout",
     "output_type": "stream",
     "text": [
      "[2025-05-12 07:40:17,166: INFO: common: yaml file: config\\config.yaml loaded successfully]\n",
      "[2025-05-12 07:40:17,166: INFO: common: yaml file: params.yaml loaded successfully]\n",
      "[2025-05-12 07:40:17,166: INFO: common: yaml file: schema.yaml loaded successfully]\n",
      "[2025-05-12 07:40:17,166: INFO: common: created directory at: artifacts]\n",
      "[2025-05-12 07:40:17,166: INFO: common: created directory at: artifacts/data_transformation]\n",
      "[2025-05-12 07:40:17,324: INFO: 380530395: Splited data into training and test sets]\n",
      "[2025-05-12 07:40:17,324: INFO: 380530395: (857, 12)]\n",
      "[2025-05-12 07:40:17,324: INFO: 380530395: (286, 12)]\n",
      "(857, 12)\n",
      "(286, 12)\n",
      "[2025-05-12 07:40:17,700: INFO: 380530395: Saved transformed train and test datasets to CSV]\n",
      "X_train_transformed shape: (857, 77)\n",
      "X_test_transformed shape: (286, 77)\n"
     ]
    }
   ],
   "source": [
    "try:\n",
    "    config = ConfigurationManager()\n",
    "    data_transformation_config = config.get_data_transformation_config()\n",
    "    data_transformation = DataTransformation(config=data_transformation_config)\n",
    "\n",
    "    # Step 1: Train-test split\n",
    "    data_transformation.train_test_spliting()\n",
    "\n",
    "    # Step 2: Feature transformation and saving as CSV\n",
    "    data_transformation.feature_transformation()\n",
    "\n",
    "except Exception as e:\n",
    "    raise e\n"
   ]
  },
  {
   "cell_type": "code",
   "execution_count": null,
   "id": "34fc1caa",
   "metadata": {},
   "outputs": [],
   "source": []
  }
 ],
 "metadata": {
  "kernelspec": {
   "display_name": "mlproj",
   "language": "python",
   "name": "python3"
  },
  "language_info": {
   "codemirror_mode": {
    "name": "ipython",
    "version": 3
   },
   "file_extension": ".py",
   "mimetype": "text/x-python",
   "name": "python",
   "nbconvert_exporter": "python",
   "pygments_lexer": "ipython3",
   "version": "3.12.9"
  }
 },
 "nbformat": 4,
 "nbformat_minor": 5
}
